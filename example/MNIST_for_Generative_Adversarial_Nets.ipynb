{
 "cells": [
  {
   "cell_type": "code",
   "execution_count": 1,
   "metadata": {
    "collapsed": true
   },
   "outputs": [],
   "source": [
    "%load_ext autoreload\n",
    "%autoreload 2"
   ]
  },
  {
   "cell_type": "code",
   "execution_count": 25,
   "metadata": {},
   "outputs": [],
   "source": [
    "import numpy as np\n",
    "import tensorflow as tf\n",
    "from tensorflow.examples.tutorials.mnist import input_data\n",
    "from tensorflow.python.framework import dtypes\n",
    "from solarimage.classifier.nn.dataset import DataSet\n",
    "from solarimage.classifier.nn.model.regression import log_linear\n",
    "from solarimage.classifier.nn.optimizer.objective import genradvers\n",
    "from solarimage.classifier.nn.optimizer.stepper import adam_optimizer"
   ]
  },
  {
   "cell_type": "code",
   "execution_count": 3,
   "metadata": {},
   "outputs": [],
   "source": [
    "def xavier_init(size):\n",
    "    in_dim = size[0]\n",
    "    xavier_stddev = 1. / tf.sqrt(in_dim / 2.)\n",
    "    return tf.random_normal(shape=size, stddev=xavier_stddev)"
   ]
  },
  {
   "cell_type": "code",
   "execution_count": 23,
   "metadata": {},
   "outputs": [
    {
     "name": "stdout",
     "output_type": "stream",
     "text": [
      "Extracting example/MNIST_data/train-images-idx3-ubyte.gz\n"
     ]
    },
    {
     "name": "stdout",
     "output_type": "stream",
     "text": [
      "Extracting example/MNIST_data/train-labels-idx1-ubyte.gz\nExtracting example/MNIST_data/t10k-images-idx3-ubyte.gz\nExtracting example/MNIST_data/t10k-labels-idx1-ubyte.gz\n"
     ]
    }
   ],
   "source": [
    "mnist = input_data.read_data_sets(\"example/MNIST_data/\", one_hot=True)\n",
    "train_dataset = DataSet(mnist.train.images, mnist.train.labels,reshape=False,dtype=dtypes.uint8)"
   ]
  },
  {
   "cell_type": "code",
   "execution_count": 16,
   "metadata": {},
   "outputs": [],
   "source": [
    "mb_size = 32\n",
    "x_dim = 784\n",
    "z_dim = 100\n",
    "h_dim = 128\n",
    "lr = 1e-3\n",
    "d_steps = 3"
   ]
  },
  {
   "cell_type": "code",
   "execution_count": 17,
   "metadata": {},
   "outputs": [],
   "source": [
    "# Discriminator Net\n",
    "X = tf.placeholder(tf.float32, shape=[None, X_dim], name='X')\n",
    "\n",
    "D_W1 = tf.Variable(xavier_init([x_dim, h_dim]), name='D_W1')\n",
    "D_b1 = tf.Variable(tf.zeros(shape=[h_dim]), name='D_b1')\n",
    "D_W2 = tf.Variable(xavier_init([h_dim, 1]), name='D_W2')\n",
    "D_b2 = tf.Variable(tf.zeros(shape=[1]), name='D_b2')\n",
    "\n",
    "theta_D = [D_W1, D_W2, D_b1, D_b2]\n",
    "\n",
    "# Generator Net\n",
    "Z = tf.placeholder(tf.float32, shape=[None, z_dim], name='Z')\n",
    "\n",
    "G_W1 = tf.Variable(xavier_init([z_dim, h_dim]), name='G_W1')\n",
    "G_b1 = tf.Variable(tf.zeros(shape=[h_dim]), name='G_b1')\n",
    "G_W2 = tf.Variable(xavier_init([h_dim, x_dim]), name='G_W2')\n",
    "G_b2 = tf.Variable(tf.zeros(shape=[x_dim]), name='G_b2')\n",
    "\n",
    "theta_G = [G_W1, G_W2, G_b1, G_b2]"
   ]
  },
  {
   "cell_type": "code",
   "execution_count": 18,
   "metadata": {},
   "outputs": [],
   "source": [
    "G_sample, _ = log_linear(Z, G_W1, G_b1, G_W2, G_b2)\n",
    "D_real, D_logit_real = log_linear(X, D_W1, D_b1, D_W2, D_b2)\n",
    "D_fake, D_logit_fake = log_linear(G_sample, D_W1, D_b1, D_W2, D_b2)\n",
    "D_loss, G_loss = genradvers(D_real, D_fake)"
   ]
  },
  {
   "cell_type": "code",
   "execution_count": 19,
   "metadata": {},
   "outputs": [],
   "source": [
    "# Only update D(X)'s parameters, so var_list = theta_D\n",
    "D_solver = adam_optimizer(D_loss, theta_D)\n",
    "# Only update G(X)'s parameters, so var_list = theta_G\n",
    "G_solver = adam_optimizer(G_loss, theta_G)"
   ]
  },
  {
   "cell_type": "code",
   "execution_count": 27,
   "metadata": {},
   "outputs": [],
   "source": [
    "def sample_Z(m, n):\n",
    "    '''Uniform prior for G(Z)'''\n",
    "    return np.random.uniform(-1., 1., size=[m, n])\n",
    "\n",
    "with tf.Session() as sess:\n",
    "    sess.run(tf.global_variables_initializer())\n",
    "    for _ in range(1000000):\n",
    "        #  train process\n",
    "        x_mb, batch_ys = train_dataset.next_batch(mb_size, shuffle=False)\n",
    "        _, D_loss_curr = sess.run([D_solver, D_loss], feed_dict={X: x_mb, Z: sample_Z(mb_size, z_dim)})\n",
    "        _, G_loss_curr = sess.run([G_solver, G_loss], feed_dict={Z: sample_Z(mb_size, z_dim)})"
   ]
  },
  {
   "cell_type": "code",
   "execution_count": null,
   "metadata": {},
   "outputs": [],
   "source": [
    ""
   ]
  }
 ],
 "metadata": {
  "kernelspec": {
   "display_name": "Python 2",
   "language": "python",
   "name": "python2"
  },
  "language_info": {
   "codemirror_mode": {
    "name": "ipython",
    "version": 2.0
   },
   "file_extension": ".py",
   "mimetype": "text/x-python",
   "name": "python",
   "nbconvert_exporter": "python",
   "pygments_lexer": "ipython2",
   "version": "2.7.6"
  }
 },
 "nbformat": 4,
 "nbformat_minor": 0
}